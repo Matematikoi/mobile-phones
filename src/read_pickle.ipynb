{
 "cells": [
  {
   "cell_type": "code",
   "execution_count": 4,
   "id": "953da75c-cf60-4bb4-9ee4-962d811b064e",
   "metadata": {
    "tags": []
   },
   "outputs": [],
   "source": [
    "import pickle\n",
    "from train_models import CellPhoneModel\n",
    "import file_management as fm"
   ]
  },
  {
   "cell_type": "code",
   "execution_count": 20,
   "id": "14fe648b-db8f-4ad2-8450-ca167856151a",
   "metadata": {
    "tags": []
   },
   "outputs": [],
   "source": [
    "with open('./data/model.pickle', 'rb') as handle:\n",
    "    model = pickle.load(handle)"
   ]
  },
  {
   "cell_type": "code",
   "execution_count": 21,
   "id": "4c91f5a2-cde1-47d2-b24f-9909708a5b8b",
   "metadata": {
    "tags": []
   },
   "outputs": [],
   "source": [
    "data = fm.read_parquet(fm.Filenames.train)"
   ]
  },
  {
   "cell_type": "code",
   "execution_count": 22,
   "id": "03ca5b99-7fb7-4532-b81e-6f5d6369e41e",
   "metadata": {
    "tags": []
   },
   "outputs": [
    {
     "name": "stdout",
     "output_type": "stream",
     "text": [
      "battery_power\n",
      "blue\n",
      "clock_speed\n",
      "dual_sim\n",
      "fc\n",
      "four_g\n",
      "int_memory\n",
      "m_dep\n",
      "mobile_wt\n",
      "n_cores\n",
      "pc\n",
      "px_height\n",
      "px_width\n",
      "ram\n",
      "sc_h\n",
      "sc_w\n",
      "talk_time\n",
      "three_g\n",
      "touch_screen\n",
      "wifi\n"
     ]
    }
   ],
   "source": [
    "for i in data.columns[:-1]:\n",
    "    print(i)"
   ]
  },
  {
   "cell_type": "code",
   "execution_count": 29,
   "id": "ee736d96-f3a3-40c7-b3b1-bdcdfb062720",
   "metadata": {
    "tags": []
   },
   "outputs": [
    {
     "data": {
      "text/plain": [
       "array([1, 2, 2, 2, 1])"
      ]
     },
     "execution_count": 29,
     "metadata": {},
     "output_type": "execute_result"
    }
   ],
   "source": [
    "model.predict(data[data.columns[:-1]].head(1))"
   ]
  }
 ],
 "metadata": {
  "kernelspec": {
   "display_name": "Python 3 (ipykernel)",
   "language": "python",
   "name": "python3"
  },
  "language_info": {
   "codemirror_mode": {
    "name": "ipython",
    "version": 3
   },
   "file_extension": ".py",
   "mimetype": "text/x-python",
   "name": "python",
   "nbconvert_exporter": "python",
   "pygments_lexer": "ipython3",
   "version": "3.11.5"
  }
 },
 "nbformat": 4,
 "nbformat_minor": 5
}
